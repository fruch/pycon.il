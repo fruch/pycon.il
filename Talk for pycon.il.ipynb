{
 "cells": [
  {
   "cell_type": "markdown",
   "metadata": {},
   "source": [
    "# Finding the package that match\n",
    "\n",
    "Ideally:\n",
    "\n",
    "* lots of packages out there\n",
    "* the \"Wisdom of the crowd\" will lead us\n",
    "* we are in hurry, first match in google will save us.\n",
    "\n",
    "Real world:\n",
    "* dragons are out there (not all are in the same qulity)\n",
    "* the crowd has left the building (or looked the other way)\n",
    "* we are in hurry\n",
    "* we are too lazy to read all the docs (if there are any)\n",
    "\n"
   ]
  },
  {
   "cell_type": "code",
   "execution_count": 6,
   "metadata": {},
   "outputs": [
    {
     "data": {
      "text/plain": [
       "['VersionInfo',\n",
       " '_LAST_NUMBER',\n",
       " '_REGEX',\n",
       " '__author__',\n",
       " '__author_email__',\n",
       " '__builtins__',\n",
       " '__cached__',\n",
       " '__doc__',\n",
       " '__file__',\n",
       " '__loader__',\n",
       " '__name__',\n",
       " '__package__',\n",
       " '__spec__',\n",
       " '__version__',\n",
       " '_compare_by_keys',\n",
       " '_increment_string',\n",
       " '_nat_cmp',\n",
       " '_to_dict',\n",
       " 'bump_build',\n",
       " 'bump_major',\n",
       " 'bump_minor',\n",
       " 'bump_patch',\n",
       " 'bump_prerelease',\n",
       " 'cmp',\n",
       " 'collections',\n",
       " 'compare',\n",
       " 'finalize_version',\n",
       " 'format_version',\n",
       " 'match',\n",
       " 'max_ver',\n",
       " 'min_ver',\n",
       " 'parse',\n",
       " 'parse_version_info',\n",
       " 're']"
      ]
     },
     "execution_count": 6,
     "metadata": {},
     "output_type": "execute_result"
    }
   ],
   "source": [
    "import semver\n",
    "semver.parse('18.6.4') \n",
    "dir(semver)"
   ]
  },
  {
   "cell_type": "code",
   "execution_count": 3,
   "metadata": {},
   "outputs": [
    {
     "ename": "TypeError",
     "evalue": "'>' not supported between instances of 'dict' and 'dict'",
     "output_type": "error",
     "traceback": [
      "\u001b[0;31m---------------------------------------------------------------------------\u001b[0m",
      "\u001b[0;31mTypeError\u001b[0m                                 Traceback (most recent call last)",
      "\u001b[0;32m<ipython-input-3-984a58cad465>\u001b[0m in \u001b[0;36m<module>\u001b[0;34m()\u001b[0m\n\u001b[0;32m----> 1\u001b[0;31m \u001b[0msemver\u001b[0m\u001b[0;34m.\u001b[0m\u001b[0mparse\u001b[0m\u001b[0;34m(\u001b[0m\u001b[0;34m'18.6.4'\u001b[0m\u001b[0;34m)\u001b[0m \u001b[0;34m>\u001b[0m \u001b[0msemver\u001b[0m\u001b[0;34m.\u001b[0m\u001b[0mparse\u001b[0m\u001b[0;34m(\u001b[0m\u001b[0;34m'18.5.4'\u001b[0m\u001b[0;34m)\u001b[0m\u001b[0;34m\u001b[0m\u001b[0m\n\u001b[0m",
      "\u001b[0;31mTypeError\u001b[0m: '>' not supported between instances of 'dict' and 'dict'"
     ]
    }
   ],
   "source": [
    "semver.parse('18.6.4') > semver.parse('18.5.4')"
   ]
  },
  {
   "cell_type": "code",
   "execution_count": 5,
   "metadata": {},
   "outputs": [
    {
     "data": {
      "text/plain": [
       "False"
      ]
     },
     "execution_count": 5,
     "metadata": {},
     "output_type": "execute_result"
    }
   ],
   "source": [
    "semver.parse_version_info('18.6.4') < semver.parse_version_info('18.5.4')"
   ]
  },
  {
   "cell_type": "markdown",
   "metadata": {},
   "source": [
    "## Now its working - but a bit verbose..."
   ]
  },
  {
   "cell_type": "code",
   "execution_count": null,
   "metadata": {},
   "outputs": [],
   "source": []
  }
 ],
 "metadata": {
  "kernelspec": {
   "display_name": "Python 3",
   "language": "python",
   "name": "python3"
  },
  "language_info": {
   "codemirror_mode": {
    "name": "ipython",
    "version": 3
   },
   "file_extension": ".py",
   "mimetype": "text/x-python",
   "name": "python",
   "nbconvert_exporter": "python",
   "pygments_lexer": "ipython3",
   "version": "3.6.4"
  }
 },
 "nbformat": 4,
 "nbformat_minor": 2
}
